{
 "cells": [
  {
   "cell_type": "code",
   "execution_count": 1,
   "metadata": {},
   "outputs": [],
   "source": [
    "import tensorflow as tf\n",
    "from sklearn.feature_extraction.text import CountVectorizer"
   ]
  },
  {
   "cell_type": "code",
   "execution_count": 6,
   "metadata": {},
   "outputs": [],
   "source": [
    "model = tf.keras.models.load_model(r'C:\\Users\\alipa\\OneDrive\\Documents\\07 SI_Bangkit\\Capstone Project\\model_fraud.h5')\n"
   ]
  },
  {
   "cell_type": "code",
   "execution_count": 12,
   "metadata": {},
   "outputs": [],
   "source": [
    "import pickle\n",
    "file_path = \"C:\\\\Users\\\\alipa\\\\Downloads\\\\vectorizer.pickle\"\n",
    "\n",
    "\n",
    "# Load the CountVectorizer from the pickle file\n",
    "with open(file_path, 'rb') as handle:\n",
    "    loaded_vectorizer = pickle.load(handle)"
   ]
  },
  {
   "cell_type": "code",
   "execution_count": 16,
   "metadata": {},
   "outputs": [
    {
     "name": "stdout",
     "output_type": "stream",
     "text": [
      "1/1 [==============================] - 0s 52ms/step\n",
      "Predictions: [[0.8727889 ]\n",
      " [0.22612642]]\n"
     ]
    }
   ],
   "source": [
    "\n",
    "new_text_data = [\"selamat anda mendapatkan hadiah sebesar 80jt dari shopee\", \"hai, selamat siang semuanya\"]\n",
    "new_text_transformed = loaded_vectorizer.transform(new_text_data).toarray()\n",
    "\n",
    "predictions = model.predict(new_text_transformed)\n",
    "\n",
    "print(\"Predictions:\", predictions)"
   ]
  },
  {
   "cell_type": "code",
   "execution_count": null,
   "metadata": {},
   "outputs": [],
   "source": []
  }
 ],
 "metadata": {
  "kernelspec": {
   "display_name": "Python 3",
   "language": "python",
   "name": "python3"
  },
  "language_info": {
   "codemirror_mode": {
    "name": "ipython",
    "version": 3
   },
   "file_extension": ".py",
   "mimetype": "text/x-python",
   "name": "python",
   "nbconvert_exporter": "python",
   "pygments_lexer": "ipython3",
   "version": "3.8.10"
  }
 },
 "nbformat": 4,
 "nbformat_minor": 2
}
