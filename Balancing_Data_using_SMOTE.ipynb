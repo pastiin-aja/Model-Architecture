{
  "nbformat": 4,
  "nbformat_minor": 0,
  "metadata": {
    "colab": {
      "provenance": []
    },
    "kernelspec": {
      "name": "python3",
      "display_name": "Python 3"
    },
    "language_info": {
      "name": "python"
    }
  },
  "cells": [
    {
      "cell_type": "code",
      "execution_count": 40,
      "metadata": {
        "id": "xs4VCffg8vSm"
      },
      "outputs": [],
      "source": [
        "import pandas as pd\n",
        "from sklearn.model_selection import train_test_split\n",
        "path_file_csv = '/content/dataset fraud v5.csv'\n",
        "fraud_df = pd.read_csv(path_file_csv)"
      ]
    },
    {
      "cell_type": "code",
      "source": [
        "X_train, X_test, y_train, y_test = train_test_split(fraud_df['message'], fraud_df['label'], test_size=0.2, random_state=42)"
      ],
      "metadata": {
        "id": "Lw7C-7wP878r"
      },
      "execution_count": 41,
      "outputs": []
    },
    {
      "cell_type": "code",
      "source": [
        "\n",
        "count_label_0 = fraud_df[fraud_df['label'] == 0].shape[0]\n",
        "count_label_1 = fraud_df[fraud_df['label'] == 1].shape[0]\n",
        "print('Dataset size:',fraud_df.shape)\n",
        "print('Columns are:',fraud_df.columns)\n",
        "print(f\"Jumlah pesan dengan label 0: {count_label_0}\")\n",
        "print(f\"Jumlah pesan dengan label 1: {count_label_1}\")"
      ],
      "metadata": {
        "colab": {
          "base_uri": "https://localhost:8080/"
        },
        "id": "j1rkC8KxBcGw",
        "outputId": "8518fb16-3a2a-4fe1-99a8-aadffa1c0004"
      },
      "execution_count": 42,
      "outputs": [
        {
          "output_type": "stream",
          "name": "stdout",
          "text": [
            "Dataset size: (1437, 2)\n",
            "Columns are: Index(['message', 'label'], dtype='object')\n",
            "Jumlah pesan dengan label 0: 822\n",
            "Jumlah pesan dengan label 1: 615\n"
          ]
        }
      ]
    },
    {
      "cell_type": "code",
      "source": [
        "#convert text data to numeric before applying SMOTE , like below.\n",
        "from sklearn.feature_extraction.text import CountVectorizer\n",
        "\n",
        "vectorizer = CountVectorizer()\n",
        "vectorizer.fit(X_train.values.ravel())\n",
        "X_train=vectorizer.transform(X_train.values.ravel())\n",
        "X_test=vectorizer.transform(X_test.values.ravel())\n",
        "X_train=X_train.toarray()\n",
        "X_test=X_test.toarray()"
      ],
      "metadata": {
        "id": "C5sGHT1R_60I"
      },
      "execution_count": 43,
      "outputs": []
    },
    {
      "cell_type": "code",
      "source": [
        "from imblearn.over_sampling import SMOTE\n",
        "\n",
        "X_resample, y_resampled = SMOTE().fit_resample(X_train, y_train)"
      ],
      "metadata": {
        "id": "bslAv1PB_8yP"
      },
      "execution_count": 44,
      "outputs": []
    },
    {
      "cell_type": "code",
      "source": [
        "print(\"Number of samples in X_train:\", X_train.shape[0])\n",
        "print(\"Number of samples in X_test:\", X_test.shape[0])"
      ],
      "metadata": {
        "colab": {
          "base_uri": "https://localhost:8080/"
        },
        "id": "CsAtgoR6CFvM",
        "outputId": "beec5088-38bf-4348-af22-405026099758"
      },
      "execution_count": 45,
      "outputs": [
        {
          "output_type": "stream",
          "name": "stdout",
          "text": [
            "Number of samples in X_train: 1149\n",
            "Number of samples in X_test: 288\n"
          ]
        }
      ]
    },
    {
      "cell_type": "code",
      "source": [
        "import collections\n",
        "from collections import Counter\n",
        "print('before balancing :-', Counter(y_train))\n",
        "print('after balancing :-', Counter(y_resampled))"
      ],
      "metadata": {
        "colab": {
          "base_uri": "https://localhost:8080/"
        },
        "id": "XtTuHYO4Aj3u",
        "outputId": "66eccb56-3b62-4589-a4cd-20c103ab9790"
      },
      "execution_count": 46,
      "outputs": [
        {
          "output_type": "stream",
          "name": "stdout",
          "text": [
            "before balancing :- Counter({0: 655, 1: 494})\n",
            "after balancing :- Counter({0: 655, 1: 655})\n"
          ]
        }
      ]
    },
    {
      "cell_type": "code",
      "source": [
        "from sklearn.linear_model import LogisticRegression\n",
        "from sklearn.metrics import classification_report\n",
        "\n",
        "# Assuming X_resample and y_resampled are the oversampled features and labels\n",
        "# Train a logistic regression model\n",
        "model = LogisticRegression()\n",
        "model.fit(X_resample, y_resampled)\n",
        "\n",
        "# Predict on the test set\n",
        "y_pred = model.predict(X_test)\n",
        "\n",
        "# Evaluate the model\n",
        "print(\"Classification Report:\")\n",
        "print(classification_report(y_test, y_pred))"
      ],
      "metadata": {
        "colab": {
          "base_uri": "https://localhost:8080/"
        },
        "id": "u9UP0SpGMf-J",
        "outputId": "616ccfb8-7120-4216-c164-158e6a879aac"
      },
      "execution_count": 47,
      "outputs": [
        {
          "output_type": "stream",
          "name": "stdout",
          "text": [
            "Classification Report:\n",
            "              precision    recall  f1-score   support\n",
            "\n",
            "           0       0.95      0.95      0.95       167\n",
            "           1       0.93      0.93      0.93       121\n",
            "\n",
            "    accuracy                           0.94       288\n",
            "   macro avg       0.94      0.94      0.94       288\n",
            "weighted avg       0.94      0.94      0.94       288\n",
            "\n"
          ]
        }
      ]
    },
    {
      "cell_type": "code",
      "source": [
        "new_text = [\"saya dari tim Baim Wong, memberitahukan bahwa anda mendapat hadiah 80JT\"]\n",
        "new_text_vectorized = vectorizer.transform(new_text).toarray()\n",
        "\n",
        "predictions = model.predict(new_text_vectorized)\n",
        "\n",
        "print(\"Predictions:\", predictions)"
      ],
      "metadata": {
        "colab": {
          "base_uri": "https://localhost:8080/"
        },
        "id": "xfPJfQ8-M_w5",
        "outputId": "3ee28898-f1a6-480d-8943-962225abf0ea"
      },
      "execution_count": 48,
      "outputs": [
        {
          "output_type": "stream",
          "name": "stdout",
          "text": [
            "Predictions: [1]\n"
          ]
        }
      ]
    },
    {
      "cell_type": "code",
      "source": [
        "# Import necessary libraries\n",
        "import numpy as np\n",
        "\n",
        "# Print shape and data type of X\n",
        "print(\"X_resample shape:\", X_resample.shape)\n",
        "print(\"X_resample data type:\", type(X_resample))\n",
        "print(\"X_resample data type of elements:\", X_resample.dtype)\n",
        "print(\"Example data in X_resample:\", X_resample[0])  # Assuming X_resample is a NumPy array or similar\n",
        "\n",
        "# Print shape and data type of y\n",
        "print(\"\\ny_resampled shape:\", y_resampled.shape)\n",
        "print(\"y_resampled data type:\", type(y_resampled))\n",
        "print(\"y_resampled data type of elements:\", y_resampled.dtype)\n",
        "print(\"Example data in y_resampled:\", y_resampled[0])"
      ],
      "metadata": {
        "colab": {
          "base_uri": "https://localhost:8080/"
        },
        "id": "sBquy5cuQ4QD",
        "outputId": "defcf23a-b3a9-451d-df67-a669c84c5755"
      },
      "execution_count": 36,
      "outputs": [
        {
          "output_type": "stream",
          "name": "stdout",
          "text": [
            "X_resample shape: (1310, 5657)\n",
            "X_resample data type: <class 'numpy.ndarray'>\n",
            "X_resample data type of elements: int64\n",
            "Example data in X_resample: [0 0 0 ... 0 0 0]\n",
            "\n",
            "y_resampled shape: (1310,)\n",
            "y_resampled data type: <class 'pandas.core.series.Series'>\n",
            "y_resampled data type of elements: int64\n",
            "Example data in y_resampled: 0\n"
          ]
        }
      ]
    },
    {
      "cell_type": "code",
      "source": [
        "import tensorflow as tf\n",
        "from tensorflow.keras.models import Sequential\n",
        "from tensorflow.keras.layers import Dense, Dropout\n",
        "from sklearn.metrics import classification_report\n",
        "\n",
        "# Assuming X_resample and y_resampled are the oversampled features and labels\n",
        "# Convert data types to float32 for TensorFlow\n",
        "X_resample = X_resample.astype('float32')\n",
        "y_resampled = y_resampled.astype('float32')\n",
        "X_test = X_test.astype('float32')\n",
        "y_test = y_test.astype('float32')\n",
        "\n",
        "# Build a simple neural network\n",
        "model = Sequential()\n",
        "model.add(Dense(64, input_dim=X_resample.shape[1], activation='relu'))\n",
        "model.add(Dropout(0.5))\n",
        "model.add(Dense(1, activation='sigmoid'))\n",
        "\n",
        "# Compile the model\n",
        "model.compile(optimizer='adam', loss='binary_crossentropy', metrics=['accuracy'])\n",
        "\n",
        "# Train the model\n",
        "model.fit(X_resample, y_resampled, epochs=10, batch_size=32, validation_data=(X_test, y_test))"
      ],
      "metadata": {
        "colab": {
          "base_uri": "https://localhost:8080/"
        },
        "id": "Q27r_EYQQvXZ",
        "outputId": "e93b7abd-a7f3-4daf-973e-b50bde60ef3a"
      },
      "execution_count": 37,
      "outputs": [
        {
          "output_type": "stream",
          "name": "stdout",
          "text": [
            "Epoch 1/10\n",
            "41/41 [==============================] - 1s 13ms/step - loss: 0.5759 - accuracy: 0.8038 - val_loss: 0.4494 - val_accuracy: 0.9271\n",
            "Epoch 2/10\n",
            "41/41 [==============================] - 0s 9ms/step - loss: 0.3413 - accuracy: 0.9160 - val_loss: 0.2778 - val_accuracy: 0.9375\n",
            "Epoch 3/10\n",
            "41/41 [==============================] - 0s 9ms/step - loss: 0.2015 - accuracy: 0.9366 - val_loss: 0.2140 - val_accuracy: 0.9375\n",
            "Epoch 4/10\n",
            "41/41 [==============================] - 0s 10ms/step - loss: 0.1368 - accuracy: 0.9550 - val_loss: 0.1887 - val_accuracy: 0.9410\n",
            "Epoch 5/10\n",
            "41/41 [==============================] - 0s 11ms/step - loss: 0.1002 - accuracy: 0.9664 - val_loss: 0.1790 - val_accuracy: 0.9444\n",
            "Epoch 6/10\n",
            "41/41 [==============================] - 0s 8ms/step - loss: 0.0778 - accuracy: 0.9756 - val_loss: 0.1757 - val_accuracy: 0.9479\n",
            "Epoch 7/10\n",
            "41/41 [==============================] - 0s 9ms/step - loss: 0.0627 - accuracy: 0.9893 - val_loss: 0.1769 - val_accuracy: 0.9479\n",
            "Epoch 8/10\n",
            "41/41 [==============================] - 0s 9ms/step - loss: 0.0520 - accuracy: 0.9977 - val_loss: 0.1761 - val_accuracy: 0.9479\n",
            "Epoch 9/10\n",
            "41/41 [==============================] - 0s 9ms/step - loss: 0.0446 - accuracy: 0.9977 - val_loss: 0.1806 - val_accuracy: 0.9549\n",
            "Epoch 10/10\n",
            "41/41 [==============================] - 0s 8ms/step - loss: 0.0364 - accuracy: 0.9992 - val_loss: 0.1879 - val_accuracy: 0.9514\n"
          ]
        },
        {
          "output_type": "execute_result",
          "data": {
            "text/plain": [
              "<keras.src.callbacks.History at 0x7f2d828e91b0>"
            ]
          },
          "metadata": {},
          "execution_count": 37
        }
      ]
    },
    {
      "cell_type": "code",
      "source": [
        "y_pred_prob = model.predict(X_test)\n",
        "y_pred = (y_pred_prob > 0.5).astype('float32')  # Convert probabilities to binary predictions\n",
        "\n",
        "# Evaluate the model\n",
        "print(\"Classification Report:\")\n",
        "print(classification_report(y_test, y_pred))"
      ],
      "metadata": {
        "colab": {
          "base_uri": "https://localhost:8080/"
        },
        "id": "E93tUUNgSNh0",
        "outputId": "4897f5bb-8b67-4f6c-e6d2-467c50434ede"
      },
      "execution_count": 38,
      "outputs": [
        {
          "output_type": "stream",
          "name": "stdout",
          "text": [
            "9/9 [==============================] - 0s 3ms/step\n",
            "Classification Report:\n",
            "              precision    recall  f1-score   support\n",
            "\n",
            "         0.0       0.96      0.96      0.96       167\n",
            "         1.0       0.94      0.94      0.94       121\n",
            "\n",
            "    accuracy                           0.95       288\n",
            "   macro avg       0.95      0.95      0.95       288\n",
            "weighted avg       0.95      0.95      0.95       288\n",
            "\n"
          ]
        }
      ]
    },
    {
      "cell_type": "code",
      "source": [
        "model.summary()"
      ],
      "metadata": {
        "colab": {
          "base_uri": "https://localhost:8080/"
        },
        "id": "WB4fscpzSZuF",
        "outputId": "a870ddb9-e744-4644-8d8e-36135382e14e"
      },
      "execution_count": 39,
      "outputs": [
        {
          "output_type": "stream",
          "name": "stdout",
          "text": [
            "Model: \"sequential\"\n",
            "_________________________________________________________________\n",
            " Layer (type)                Output Shape              Param #   \n",
            "=================================================================\n",
            " dense (Dense)               (None, 64)                362112    \n",
            "                                                                 \n",
            " dropout (Dropout)           (None, 64)                0         \n",
            "                                                                 \n",
            " dense_1 (Dense)             (None, 1)                 65        \n",
            "                                                                 \n",
            "=================================================================\n",
            "Total params: 362177 (1.38 MB)\n",
            "Trainable params: 362177 (1.38 MB)\n",
            "Non-trainable params: 0 (0.00 Byte)\n",
            "_________________________________________________________________\n"
          ]
        }
      ]
    },
    {
      "cell_type": "code",
      "source": [
        "new_text = [\"saya dari tim Baim Wong, memberitahukan bahwa anda mendapat hadiah 80JT\"]\n",
        "new_text_vectorized = vectorizer.transform(new_text).toarray()\n",
        "\n",
        "# Make predictions (probabilities)\n",
        "predicted_probabilities = model.predict_proba(new_text_vectorized)\n",
        "\n",
        "print(\"Predicted Probabilities:\", predicted_probabilities)"
      ],
      "metadata": {
        "colab": {
          "base_uri": "https://localhost:8080/"
        },
        "id": "AN44FZtGiFlK",
        "outputId": "9d766944-49fe-4bdb-d7e5-6f7efd1ec560"
      },
      "execution_count": 49,
      "outputs": [
        {
          "output_type": "stream",
          "name": "stdout",
          "text": [
            "Predicted Probabilities: [[0.06611865 0.93388135]]\n"
          ]
        }
      ]
    },
    {
      "cell_type": "code",
      "source": [
        "predicted_probabilities_class_1 = predicted_probabilities[:, 1]\n",
        "print(\"Predicted Probabilities for Class 1:\", predicted_probabilities_class_1)\n"
      ],
      "metadata": {
        "id": "Y6WpM62CkGO5"
      },
      "execution_count": null,
      "outputs": []
    },
    {
      "cell_type": "code",
      "source": [
        "pip install easyocr"
      ],
      "metadata": {
        "id": "Onp6-ovckwYh"
      },
      "execution_count": null,
      "outputs": []
    },
    {
      "cell_type": "code",
      "source": [
        "import easyocr\n",
        "import numpy as np\n",
        "from tensorflow.keras.models import load_model\n",
        "from tensorflow.keras.preprocessing.text import Tokenizer\n",
        "from tensorflow.keras.preprocessing.sequence import pad_sequences"
      ],
      "metadata": {
        "id": "aUCpb3YKkDIj"
      },
      "execution_count": 53,
      "outputs": []
    },
    {
      "cell_type": "code",
      "source": [
        "def ocr_image(image_path):\n",
        "    reader = easyocr.Reader(['id'])  # You can specify the language(s) supported by your OCR model\n",
        "    result = reader.readtext(image_path)\n",
        "    text = ' '.join([entry[1] for entry in result])\n",
        "    return text\n"
      ],
      "metadata": {
        "id": "r9oYOWgYkLKE"
      },
      "execution_count": 54,
      "outputs": []
    },
    {
      "cell_type": "code",
      "source": [
        "def preprocess_text(text, vectorizer):\n",
        "    # Assuming the vectorizer is already trained and loaded\n",
        "    text_vectorized = vectorizer.transform([text]).toarray()\n",
        "    return text_vectorized\n",
        "\n",
        "# Example usage\n",
        "image_path = '/content/abd test.jpg'\n",
        "image_text = ocr_image(image_path)\n",
        "preprocessed_text = preprocess_text(image_text, vectorizer)"
      ],
      "metadata": {
        "colab": {
          "base_uri": "https://localhost:8080/"
        },
        "id": "foq_TqOskXDk",
        "outputId": "302fc8b3-4c0b-4c10-f21a-3f58a522cebb"
      },
      "execution_count": 60,
      "outputs": [
        {
          "output_type": "stream",
          "name": "stderr",
          "text": [
            "WARNING:easyocr.easyocr:Neither CUDA nor MPS are available - defaulting to CPU. Note: This module is much faster with a GPU.\n"
          ]
        }
      ]
    },
    {
      "cell_type": "code",
      "source": [
        "text = ocr_image(image_path)\n",
        "\n",
        "# Mencetak teks hasil konversi dari gambar\n",
        "print(\"Detected Text:\")\n",
        "print(text)"
      ],
      "metadata": {
        "colab": {
          "base_uri": "https://localhost:8080/"
        },
        "id": "szDkfpCBlk2P",
        "outputId": "77b7b000-25b2-4618-9974-baa5746d3711"
      },
      "execution_count": 61,
      "outputs": [
        {
          "output_type": "stream",
          "name": "stderr",
          "text": [
            "WARNING:easyocr.easyocr:Neither CUDA nor MPS are available - defaulting to CPU. Note: This module is much faster with a GPU.\n"
          ]
        },
        {
          "output_type": "stream",
          "name": "stdout",
          "text": [
            "Detected Text:\n",
            "Jaga akun sosmed, perbankan & data penting lainnya dari SCAMMING! Pakai IMSecure; BEBAS akses 90 hari. Cek di: bit lyZ imsecure-ret\n"
          ]
        }
      ]
    },
    {
      "cell_type": "code",
      "source": [
        "# Make predictions\n",
        "predictions = model.predict(preprocessed_text)\n",
        "print(\"Predictions:\", predictions)"
      ],
      "metadata": {
        "colab": {
          "base_uri": "https://localhost:8080/"
        },
        "id": "w_1Q93J9kZ8G",
        "outputId": "c9d14c7b-7bee-4012-83b3-e706e2d738a9"
      },
      "execution_count": 62,
      "outputs": [
        {
          "output_type": "stream",
          "name": "stdout",
          "text": [
            "Predictions: [0]\n"
          ]
        }
      ]
    }
  ]
}